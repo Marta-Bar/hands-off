{
 "cells": [
  {
   "cell_type": "code",
   "execution_count": 1,
   "id": "8b345b9b-fd7a-4e68-8a0a-2e2df0392acd",
   "metadata": {},
   "outputs": [
    {
     "data": {
      "text/plain": [
       "dict_keys(['data', 'target', 'frame', 'categories', 'feature_names', 'target_names', 'DESCR', 'details', 'url'])"
      ]
     },
     "execution_count": 1,
     "metadata": {},
     "output_type": "execute_result"
    }
   ],
   "source": [
    "import numpy as np\n",
    "import pandas as pd\n",
    "\n",
    "from sklearn.datasets import fetch_openml\n",
    "\n",
    "mnist = fetch_openml('mnist_784', version = 1)\n",
    "mnist.keys()"
   ]
  },
  {
   "cell_type": "code",
   "execution_count": 2,
   "id": "19faed47-bc84-4e33-890c-0b1ae452c90d",
   "metadata": {},
   "outputs": [
    {
     "data": {
      "text/plain": [
       "(-0.5, 27.5, 27.5, -0.5)"
      ]
     },
     "execution_count": 2,
     "metadata": {},
     "output_type": "execute_result"
    },
    {
     "data": {
      "image/png": "[encoded data removed]",
      "text/plain": [
       "<Figure size 432x288 with 1 Axes>"
      ]
     },
     "metadata": {
      "needs_background": "light"
     },
     "output_type": "display_data"
    }
   ],
   "source": [
    "X, y = mnist['data'], mnist['target']\n",
    "y = y.astype(np.uint8)\n",
    "\n",
    "%matplotlib inline\n",
    "import matplotlib as mpl \n",
    "import matplotlib.pyplot as plt\n",
    "\n",
    "digit = X.loc[0].values\n",
    "plt.imshow(digit.reshape(28,28), cmap = 'binary')\n",
    "plt.axis('off')"
   ]
  },
  {
   "cell_type": "code",
   "execution_count": 3,
   "id": "87ea1602-1fcf-449a-aa72-c5b3c950a627",
   "metadata": {},
   "outputs": [],
   "source": [
    "X_train, X_test, y_train, y_test = X[:60000], X[60000:], y[:60000], y[60000:]"
   ]
  },
  {
   "cell_type": "markdown",
   "id": "430d0aa1-380d-4421-add1-f881c06f071e",
   "metadata": {},
   "source": [
    "GOAL: 97% accuracy"
   ]
  },
  {
   "cell_type": "code",
   "execution_count": 9,
   "id": "f96f4a9c-e3e2-4ec0-96eb-956c9f3be167",
   "metadata": {},
   "outputs": [],
   "source": [
    "from sklearn.metrics import confusion_matrix\n",
    "from sklearn.model_selection import cross_val_predict\n",
    "\n",
    "def conf_matr(classifier, X_train_ = X_train, y_train_ = y_train):\n",
    "\n",
    "    y_pred = cross_val_predict(classifier, X_train_, y_train_, cv =3)\n",
    "\n",
    "    conf_mx = confusion_matrix(y_train_, y_pred)\n",
    "    row_sums = conf_mx.sum(axis=1, keepdims= True)\n",
    "    \n",
    "    norm_conf_mx = conf_mx /row_sums\n",
    "\n",
    "    np.fill_diagonal(norm_conf_mx, 0)\n",
    "    plt.matshow(norm_conf_mx, cmap = plt.cm.gray)\n",
    "    \n",
    "    plt.show()"
   ]
  },
  {
   "cell_type": "code",
   "execution_count": 5,
   "id": "f2779593-f7bc-4cf4-9148-448b9eb98ecc",
   "metadata": {},
   "outputs": [],
   "source": [
    "def display_scores(scores):\n",
    "    print('Scores: ', scores)\n",
    "    print('Mean: ', scores.mean())\n",
    "    print('Scores std: ', scores.std())"
   ]
  },
  {
   "cell_type": "code",
   "execution_count": 6,
   "id": "6ea4a345-ffc6-46a1-a683-138eaa07fb14",
   "metadata": {
    "tags": []
   },
   "outputs": [],
   "source": [
    "# RANDOM FOREST: \n",
    "\n",
    "from sklearn.ensemble import RandomForestClassifier\n",
    "from sklearn.model_selection import cross_val_score\n",
    "\n"
   ]
  },
  {
   "cell_type": "code",
   "execution_count": null,
   "id": "c046fa0d-3e73-45f0-8696-40281f9e2390",
   "metadata": {},
   "outputs": [],
   "source": [
    "forest = RandomForestClassifier()\n",
    "cross_val_score(forest, X_train, y_train, cv =3, scoring = 'accuracy')\n",
    "\n",
    "conf_matr(forest)"
   ]
  },
  {
   "cell_type": "code",
   "execution_count": 7,
   "id": "591af662-83cf-43cc-87b8-df3c2093bff6",
   "metadata": {},
   "outputs": [
    {
     "data": {
      "text/plain": [
       "array([0.9676 , 0.9671 , 0.96755])"
      ]
     },
     "execution_count": 7,
     "metadata": {},
     "output_type": "execute_result"
    }
   ],
   "source": [
    "# KNC:\n",
    "\n",
    "from sklearn.neighbors import KNeighborsClassifier\n",
    "\n",
    "KNC = KNeighborsClassifier()\n",
    "\n",
    "cross_val_score(KNC, X_train, y_train, cv =3, scoring = 'accuracy')"
   ]
  },
  {
   "cell_type": "code",
   "execution_count": 10,
   "id": "9de05fcd-6643-4ec8-bbfc-794f3e565334",
   "metadata": {
    "tags": []
   },
   "outputs": [
    {
     "data": {
      "image/png": "[encoded data removed]",
      "text/plain": [
       "<Figure size 288x288 with 1 Axes>"
      ]
     },
     "metadata": {
      "needs_background": "light"
     },
     "output_type": "display_data"
    }
   ],
   "source": [
    "conf_matr(KNC)"
   ]
  },
  {
   "cell_type": "code",
   "execution_count": 15,
   "id": "7f3dfd9a-adbf-4d76-9661-175f49adabc2",
   "metadata": {},
   "outputs": [],
   "source": [
    "from sklearn.decomposition import PCA\n",
    "\n",
    "pca= PCA(n_components = 0.95)\n",
    "X_reduced = pca.fit_transform(X_train)\n",
    "\n",
    "from sklearn.preprocessing import StandardScaler\n",
    "\n",
    "scaler = StandardScaler()\n",
    "X_train_scaled = scaler.fit_transform(X_reduced.astype(np.float64))"
   ]
  },
  {
   "cell_type": "code",
   "execution_count": 20,
   "id": "7542f002-1618-49c0-9b3e-3a7819cefdfc",
   "metadata": {
    "tags": []
   },
   "outputs": [
    {
     "name": "stdout",
     "output_type": "stream",
     "text": [
      "Fitting 3 folds for each of 8 candidates, totalling 24 fits\n"
     ]
    },
    {
     "data": {
      "text/plain": [
       "{'n_neighbors': 3, 'weights': 'distance'}"
      ]
     },
     "execution_count": 20,
     "metadata": {},
     "output_type": "execute_result"
    }
   ],
   "source": [
    "from sklearn.model_selection import GridSearchCV\n",
    "\n",
    "param_grid = [\n",
    "    {'n_neighbors' : [3, 5, 11 ,19], 'weights': ['uniform', 'distance']\n",
    "    },  \n",
    "                ]\n",
    "\n",
    "grid_search = GridSearchCV(KNC, param_grid, verbose=1, cv=3,\n",
    "                           n_jobs=-1, scoring = 'accuracy', return_train_score=True)\n",
    "\n",
    "grid_search.fit(X_train_scaled, y_train)\n",
    "\n",
    "grid_search.best_params_ \n",
    "#{'n_neighbors': 3}"
   ]
  },
  {
   "cell_type": "code",
   "execution_count": 21,
   "id": "575323d0-5790-47eb-8960-a7ecdf8eaeed",
   "metadata": {},
   "outputs": [
    {
     "name": "stdout",
     "output_type": "stream",
     "text": [
      "Scores:  [0.97315 0.9705  0.9717 ]\n",
      "Mean:  0.9717833333333333\n",
      "Scores std:  0.001083461530876305\n"
     ]
    }
   ],
   "source": [
    "scores_KNC = cross_val_score(grid_search.best_estimator_, X_reduced, y_train, scoring ='accuracy', cv = 3)\n",
    "\n",
    "display_scores(scores_KNC)\n",
    "#Scores:  [0.9718 0.9696 0.9704]\n",
    "#Mean:  0.9706\n",
    "#Scores std:  0.0009092121131323798"
   ]
  },
  {
   "cell_type": "code",
   "execution_count": null,
   "id": "8878d9b0-7ca8-40d1-9cfd-69b400fabce3",
   "metadata": {},
   "outputs": [],
   "source": []
  },
  {
   "cell_type": "code",
   "execution_count": null,
   "id": "9442db64-ed32-402a-a122-396e9e2376ae",
   "metadata": {},
   "outputs": [],
   "source": [
    "# PIXEL IMPORTANCE (p. 199)\n",
    "# DIMENSIONALITY REDUCTION"
   ]
  },
  {
   "cell_type": "code",
   "execution_count": null,
   "id": "d940f1aa-ed95-46ad-ba24-3f4039bbf215",
   "metadata": {},
   "outputs": [],
   "source": []
  }
 ],
 "metadata": {
  "kernelspec": {
   "display_name": "Python 3",
   "language": "python",
   "name": "python3"
  },
  "language_info": {
   "codemirror_mode": {
    "name": "ipython",
    "version": 3
   },
   "file_extension": ".py",
   "mimetype": "text/x-python",
   "name": "python",
   "nbconvert_exporter": "python",
   "pygments_lexer": "ipython3",
   "version": "3.7.10"
  }
 },
 "nbformat": 4,
 "nbformat_minor": 5
}
