{
 "cells": [
  {
   "cell_type": "code",
   "execution_count": null,
   "id": "4de753d1-4dc2-4b8d-bb5b-c4a9db7eeef1",
   "metadata": {},
   "outputs": [],
   "source": [
    "# create a function tha downloads the data. \n",
    "# This is useful because the data could change.\n",
    "\n",
    "import os\n",
    "import tarfile "
   ]
  }
 ],
 "metadata": {
  "kernelspec": {
   "display_name": "Python 3",
   "language": "python",
   "name": "python3"
  },
  "language_info": {
   "codemirror_mode": {
    "name": "ipython",
    "version": 3
   },
   "file_extension": ".py",
   "mimetype": "text/x-python",
   "name": "python",
   "nbconvert_exporter": "python",
   "pygments_lexer": "ipython3",
   "version": "3.7.10"
  }
 },
 "nbformat": 4,
 "nbformat_minor": 5
}
