{
 "cells": [
  {
   "cell_type": "code",
   "execution_count": 1,
   "id": "8b345b9b-fd7a-4e68-8a0a-2e2df0392acd",
   "metadata": {},
   "outputs": [
    {
     "data": {
      "text/plain": [
       "dict_keys(['data', 'target', 'frame', 'categories', 'feature_names', 'target_names', 'DESCR', 'details', 'url'])"
      ]
     },
     "execution_count": 1,
     "metadata": {},
     "output_type": "execute_result"
    }
   ],
   "source": [
    "import numpy as np\n",
    "import pandas as pd\n",
    "\n",
    "from sklearn.datasets import fetch_openml\n",
    "\n",
    "# import the MNIST dataset:\n",
    "mnist = fetch_openml('mnist_784', version = 1)\n",
    "mnist.keys()"
   ]
  },
  {
   "cell_type": "code",
   "execution_count": 112,
   "id": "19faed47-bc84-4e33-890c-0b1ae452c90d",
   "metadata": {},
   "outputs": [
    {
     "data": {
      "text/plain": [
       "(-0.5, 27.5, 27.5, -0.5)"
      ]
     },
     "execution_count": 112,
     "metadata": {},
     "output_type": "execute_result"
    },
    {
     "data": {
      "image/png": "[encoded data removed]",
      "text/plain": [
       "<Figure size 432x288 with 1 Axes>"
      ]
     },
     "metadata": {
      "needs_background": "light"
     },
     "output_type": "display_data"
    }
   ],
   "source": [
    "X, y = mnist['data'], mnist['target']\n",
    "y = y.astype(np.uint8)\n",
    "\n",
    "%matplotlib inline\n",
    "import matplotlib as mpl \n",
    "import matplotlib.pyplot as plt\n",
    "\n",
    "# let's plot one digit!\n",
    "digit = X.loc[26839].values\n",
    "plt.imshow(digit.reshape(28,28), cmap = 'binary')\n",
    "plt.axis('off')"
   ]
  },
  {
   "cell_type": "code",
   "execution_count": 39,
   "id": "18ff9121-6789-40f8-a362-ca5f355e6598",
   "metadata": {},
   "outputs": [
    {
     "name": "stdout",
     "output_type": "stream",
     "text": [
      "<class 'pandas.core.frame.DataFrame'>\n",
      "RangeIndex: 60000 entries, 0 to 59999\n",
      "Columns: 784 entries, pixel1 to pixel784\n",
      "dtypes: float64(784)\n",
      "memory usage: 358.9 MB\n"
     ]
    }
   ],
   "source": [
    "X_train.info()\n",
    "# there is no much data cleaning to do here, let's jump to test some classifier"
   ]
  },
  {
   "cell_type": "code",
   "execution_count": 3,
   "id": "87ea1602-1fcf-449a-aa72-c5b3c950a627",
   "metadata": {},
   "outputs": [],
   "source": [
    "X_train, X_test, y_train, y_test = X[:60000], X[60000:], y[:60000], y[60000:]"
   ]
  },
  {
   "cell_type": "markdown",
   "id": "430d0aa1-380d-4421-add1-f881c06f071e",
   "metadata": {},
   "source": [
    "GOAL: 97% accuracy"
   ]
  },
  {
   "cell_type": "code",
   "execution_count": 113,
   "id": "f96f4a9c-e3e2-4ec0-96eb-956c9f3be167",
   "metadata": {},
   "outputs": [],
   "source": [
    "from sklearn.metrics import confusion_matrix\n",
    "from sklearn.model_selection import cross_val_predict\n",
    "\n",
    "def conf_matr(classifier, X_train_ = X_train, y_train_ = y_train):\n",
    "\n",
    "    y_pred = cross_val_predict(classifier, X_train_, y_train_, cv =3)\n",
    "\n",
    "    conf_mx = confusion_matrix(y_train_, y_pred)\n",
    "    row_sums = conf_mx.sum(axis=1, keepdims= True)\n",
    "    \n",
    "    norm_conf_mx = conf_mx /row_sums\n",
    "\n",
    "    np.fill_diagonal(norm_conf_mx, 0)\n",
    "    plt.matshow(norm_conf_mx, cmap = plt.cm.gray)\n",
    "    \n",
    "    plt.show()\n",
    "    \n",
    "def display_scores(scores):\n",
    "    print('Scores: ', scores)\n",
    "    print('Mean: ', scores.mean())\n",
    "    print('Scores std: ', scores.std())"
   ]
  },
  {
   "cell_type": "code",
   "execution_count": 114,
   "id": "33a66414-b446-4741-b954-a012d22a6c0f",
   "metadata": {},
   "outputs": [
    {
     "data": {
      "image/png": "[encoded data removed]",
      "text/plain": [
       "<Figure size 288x288 with 1 Axes>"
      ]
     },
     "metadata": {
      "needs_background": "light"
     },
     "output_type": "display_data"
    }
   ],
   "source": [
    "# RANDOM FOREST: \n",
    "\n",
    "from sklearn.ensemble import RandomForestClassifier\n",
    "from sklearn.model_selection import cross_val_score\n",
    "\n",
    "forest = RandomForestClassifier()\n",
    "cross_val_score(forest, X_train, y_train, cv =3, scoring = 'accuracy')\n",
    "\n",
    "conf_matr(forest)"
   ]
  },
  {
   "cell_type": "code",
   "execution_count": 8,
   "id": "6aba4d48-da30-42e5-9d38-1944dc4db76c",
   "metadata": {},
   "outputs": [
    {
     "name": "stdout",
     "output_type": "stream",
     "text": [
      "Fitting 3 folds for each of 10 candidates, totalling 30 fits\n"
     ]
    },
    {
     "data": {
      "text/plain": [
       "{'n_estimators': 200,\n",
       " 'max_features': 'auto',\n",
       " 'max_depth': 13,\n",
       " 'criterion': 'entropy'}"
      ]
     },
     "execution_count": 8,
     "metadata": {},
     "output_type": "execute_result"
    }
   ],
   "source": [
    "from sklearn.model_selection import RandomizedSearchCV\n",
    "\n",
    "forest = RandomForestClassifier()\n",
    "param_grid_forest = [\n",
    "    {'n_estimators': [200, 500],\n",
    "    'max_features': ['auto', 'sqrt', 'log2'],\n",
    "    'max_depth' : [3,5,7,13],\n",
    "    'criterion' :['gini', 'entropy']\n",
    "    },  \n",
    "                ]\n",
    "random_search = RandomizedSearchCV(forest, param_grid_forest, verbose=3, cv=3,\n",
    "                           n_jobs=-1, scoring = 'accuracy', return_train_score=True)\n",
    "\n",
    "random_search.fit(X_train, y_train)\n",
    "\n",
    "random_search.best_params_"
   ]
  },
  {
   "cell_type": "code",
   "execution_count": 9,
   "id": "4b5625fe-b222-467d-8abf-6b63e89d9ce2",
   "metadata": {},
   "outputs": [
    {
     "name": "stdout",
     "output_type": "stream",
     "text": [
      "Scores:  [0.9372  0.93295 0.94   ]\n",
      "Mean:  0.9367166666666668\n",
      "Scores std:  0.0028983711900920466\n"
     ]
    }
   ],
   "source": [
    "scores_forest = cross_val_score(random_search.best_estimator_, X_train, y_train, scoring ='accuracy', cv = 3)\n",
    "\n",
    "display_scores(scores_forest)"
   ]
  },
  {
   "cell_type": "code",
   "execution_count": 115,
   "id": "591af662-83cf-43cc-87b8-df3c2093bff6",
   "metadata": {},
   "outputs": [
    {
     "data": {
      "text/plain": [
       "array([0.9676 , 0.9671 , 0.96755])"
      ]
     },
     "execution_count": 115,
     "metadata": {},
     "output_type": "execute_result"
    }
   ],
   "source": [
    "# KNC:\n",
    "\n",
    "from sklearn.neighbors import KNeighborsClassifier\n",
    "\n",
    "KNC = KNeighborsClassifier()\n",
    "\n",
    "cross_val_score(KNC, X_train, y_train, cv =3, scoring = 'accuracy')"
   ]
  },
  {
   "cell_type": "code",
   "execution_count": 116,
   "id": "9de05fcd-6643-4ec8-bbfc-794f3e565334",
   "metadata": {
    "tags": []
   },
   "outputs": [
    {
     "data": {
      "image/png": "[encoded data removed]",
      "text/plain": [
       "<Figure size 288x288 with 1 Axes>"
      ]
     },
     "metadata": {
      "needs_background": "light"
     },
     "output_type": "display_data"
    }
   ],
   "source": [
    "conf_matr(KNC)"
   ]
  },
  {
   "cell_type": "code",
   "execution_count": 117,
   "id": "7542f002-1618-49c0-9b3e-3a7819cefdfc",
   "metadata": {
    "tags": []
   },
   "outputs": [
    {
     "name": "stdout",
     "output_type": "stream",
     "text": [
      "Fitting 3 folds for each of 8 candidates, totalling 24 fits\n"
     ]
    },
    {
     "data": {
      "text/plain": [
       "{'n_neighbors': 4, 'weights': 'distance'}"
      ]
     },
     "execution_count": 117,
     "metadata": {},
     "output_type": "execute_result"
    }
   ],
   "source": [
    "from sklearn.model_selection import GridSearchCV\n",
    "\n",
    "param_grid = [\n",
    "    {'n_neighbors' : [3,4, 5, 11], 'weights': ['uniform', 'distance']\n",
    "    },  \n",
    "                ]\n",
    "\n",
    "grid_search = GridSearchCV(KNC, param_grid, verbose=3, cv=3,\n",
    "                           n_jobs=-1, scoring = 'accuracy', return_train_score=True)\n",
    "\n",
    "grid_search.fit(X_train, y_train)\n",
    "\n",
    "grid_search.best_params_ \n",
    "#{'n_neighbors': 3}"
   ]
  },
  {
   "cell_type": "code",
   "execution_count": 118,
   "id": "575323d0-5790-47eb-8960-a7ecdf8eaeed",
   "metadata": {},
   "outputs": [
    {
     "name": "stdout",
     "output_type": "stream",
     "text": [
      "Scores:  [0.9709  0.9698  0.97035]\n",
      "Mean:  0.9703500000000002\n",
      "Scores std:  0.0004490731195102452\n"
     ]
    }
   ],
   "source": [
    "scores_KNC = cross_val_score(grid_search.best_estimator_, X_train, y_train, scoring ='accuracy', cv = 3)\n",
    "\n",
    "display_scores(scores_KNC)\n",
    "# Scores:  [0.9709  0.9698  0.97035]\n",
    "# Mean:  0.9703500000000002\n",
    "# Scores std:  0.0004490731195102452"
   ]
  },
  {
   "cell_type": "code",
   "execution_count": 111,
   "id": "fdcc00c1-924e-486f-8830-f052c066d680",
   "metadata": {},
   "outputs": [],
   "source": [
    "# The KNC performs better then the RF! Lets create the pipeline \n",
    "# and try to improve our risults with a component selection\n",
    "\n",
    "from sklearn.decomposition import PCA\n",
    "from sklearn.pipeline import Pipeline\n",
    "\n",
    "\n",
    "classifier = KNeighborsClassifier(n_neighbors= 4, weights= 'distance')\n",
    "# classifier = random_search.best_estimator_\n",
    "\n",
    "# classifier = RandomForestClassifier()\n",
    "# classifier = grid_search.best_estimator_\n",
    "\n",
    "pipe = Pipeline([\n",
    "        #('pca', PCA(n_components = 0.95)),\n",
    "        ('clf', classifier)\n",
    "    ])\n",
    "\n",
    "pipe.fit(X_train, y_train)\n",
    "\n",
    "from sklearn.metrics import accuracy_score\n",
    "y_pred= pipe.predict(X_test)\n",
    "accuracy_score(y_test, y_pred)"
   ]
  },
  {
   "cell_type": "code",
   "execution_count": 33,
   "id": "311a2e04-7d11-4e65-814e-d709cc9c51b0",
   "metadata": {},
   "outputs": [],
   "source": [
    "# 91 KNC with best_estimator_\n",
    "# 90 without parameters\n",
    "# 91.06 KNC con altri parametri\n",
    "# 97 without pca... lol <---------------winner!\n",
    "\n",
    "\n",
    "# 95 Random Forest without parameters\n",
    "# 94 with best_estimator_\n",
    "# 96.59 RF.best_estimator_ without pca\n",
    "# 96.96 without parameters nor pca"
   ]
  },
  {
   "cell_type": "markdown",
   "id": "095e03ff-e6d9-46fa-8549-2c216accfa15",
   "metadata": {},
   "source": [
    "DATA AUGMENTATION: lets extend the train set by shifting the images"
   ]
  },
  {
   "cell_type": "code",
   "execution_count": 106,
   "id": "2ba9de01-88eb-4948-be01-a4fdd2637ab6",
   "metadata": {},
   "outputs": [
    {
     "name": "stderr",
     "output_type": "stream",
     "text": [
      "100%|██████████| 5000/5000 [31:29<00:00,  2.65it/s]"
     ]
    },
    {
     "name": "stdout",
     "output_type": "stream",
     "text": [
      "(60000, 784) (65000, 784)\n"
     ]
    },
    {
     "name": "stderr",
     "output_type": "stream",
     "text": [
      "\n"
     ]
    }
   ],
   "source": [
    "from scipy.ndimage.interpolation import shift\n",
    "import random\n",
    "from tqdm import tqdm\n",
    "\n",
    "def shift_image(image, dx, dy):\n",
    "    image = image.reshape((28, 28))\n",
    "    shifted_image = shift(image, [dy, dx], cval=0, mode=\"constant\")\n",
    "    return shifted_image.reshape([-1])\n",
    "\n",
    "X_train_augmented = X_train\n",
    "y_train_augmented = y_train\n",
    "\n",
    "\n",
    "ran = random.sample(list(X_train.index), 5000)\n",
    "for i in tqdm(ran):\n",
    "    dx, dy = random.choice([(1, 0), (-1, 0), (0, 1), (0, -1)]) # pick one: shift u,d,r or l\n",
    "\n",
    "    image= X_train.loc[i].to_numpy()\n",
    "    label= y_train[i]\n",
    "    X_train_augmented = X_train_augmented.append(pd.Series(shift_image(image, dx, dy), index = X_train.columns, name = len(X_train_augmented)+1))\n",
    "    y_train_augmented = y_train_augmented.append(pd.Series(label), ignore_index= True)\n",
    "\n",
    "print(X_train.shape, X_train_augmented.shape)"
   ]
  },
  {
   "cell_type": "code",
   "execution_count": 119,
   "id": "f5938746-6620-4add-9bd9-7f284ceaea3c",
   "metadata": {},
   "outputs": [
    {
     "data": {
      "text/plain": [
       "0.9714"
      ]
     },
     "execution_count": 119,
     "metadata": {},
     "output_type": "execute_result"
    }
   ],
   "source": [
    "y_pred_grid = grid_search.best_estimator_.predict(X_test)\n",
    "accuracy_score(y_test, y_pred_grid)"
   ]
  },
  {
   "cell_type": "code",
   "execution_count": 109,
   "id": "b9b478b2-650e-4d0f-bdb6-e02c88ee8864",
   "metadata": {},
   "outputs": [
    {
     "data": {
      "text/plain": [
       "0.9722"
      ]
     },
     "execution_count": 109,
     "metadata": {},
     "output_type": "execute_result"
    }
   ],
   "source": [
    "KNN = KNeighborsClassifier(n_neighbors= 4, weights= 'distance')\n",
    "\n",
    "KNN.fit(X_train_augmented, y_train_augmented)\n",
    "\n",
    "y_pred_KNN = KNN.predict(X_test)\n",
    "accuracy_score(y_test, y_pred_KNN)"
   ]
  },
  {
   "cell_type": "code",
   "execution_count": 120,
   "id": "ddc6ec56-161d-43a7-bd25-c8a61b891b54",
   "metadata": {},
   "outputs": [],
   "source": [
    "# it actually performs better by .06% by adding 5000 new fatures (circa +8% of the original dataset)\n",
    "# good! we should add more, but it takes time... I took 30 mins for this, so I expect 6 hours"
   ]
  },
  {
   "cell_type": "code",
   "execution_count": 130,
   "id": "17596503-65a6-49d9-b1a9-7b9d12723d77",
   "metadata": {},
   "outputs": [],
   "source": [
    "y_prob_KNN = KNN.predict_proba(X_test)"
   ]
  },
  {
   "cell_type": "code",
   "execution_count": 131,
   "id": "ff6d89da-0e2b-4412-a4f4-fb1b966dc260",
   "metadata": {},
   "outputs": [
    {
     "name": "stdout",
     "output_type": "stream",
     "text": [
      "Precision: 0.9722\n",
      "Recall: 0.9722\n",
      "Area under the roc, one-vs-one: 0.9941765884226756\n",
      "Area under the roc, one-vs-rest: 0.9941984021317679\n"
     ]
    }
   ],
   "source": [
    "from sklearn.metrics import precision_score, recall_score, roc_auc_score\n",
    "\n",
    "print('Precision:', precision_score(y_test, y_pred_KNN, average= 'micro'))\n",
    "print('Recall:', recall_score(y_test, y_pred_KNN, average= 'micro'))\n",
    "print('Area under the roc, one-vs-one:', roc_auc_score(y_test, y_prob_KNN, multi_class = 'ovo', average = 'weighted'))\n",
    "print('Area under the roc, one-vs-rest:', roc_auc_score(y_test, y_prob_KNN, multi_class = 'ovr', average = 'weighted'))\n",
    "\n"
   ]
  },
  {
   "cell_type": "code",
   "execution_count": null,
   "id": "1cfdbebe-f28d-491c-aabd-10c4dda31129",
   "metadata": {},
   "outputs": [],
   "source": []
  }
 ],
 "metadata": {
  "kernelspec": {
   "display_name": "Python 3",
   "language": "python",
   "name": "python3"
  },
  "language_info": {
   "codemirror_mode": {
    "name": "ipython",
    "version": 3
   },
   "file_extension": ".py",
   "mimetype": "text/x-python",
   "name": "python",
   "nbconvert_exporter": "python",
   "pygments_lexer": "ipython3",
   "version": "3.7.10"
  }
 },
 "nbformat": 4,
 "nbformat_minor": 5
}
