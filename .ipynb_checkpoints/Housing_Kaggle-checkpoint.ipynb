{
 "cells": [
  {
   "cell_type": "code",
   "execution_count": 1,
   "id": "4de753d1-4dc2-4b8d-bb5b-c4a9db7eeef1",
   "metadata": {},
   "outputs": [
    {
     "data": {
      "text/html": [
       "<div>\n",
       "<style scoped>\n",
       "    .dataframe tbody tr th:only-of-type {\n",
       "        vertical-align: middle;\n",
       "    }\n",
       "\n",
       "    .dataframe tbody tr th {\n",
       "        vertical-align: top;\n",
       "    }\n",
       "\n",
       "    .dataframe thead th {\n",
       "        text-align: right;\n",
       "    }\n",
       "</style>\n",
       "<table border=\"1\" class=\"dataframe\">\n",
       "  <thead>\n",
       "    <tr style=\"text-align: right;\">\n",
       "      <th></th>\n",
       "      <th>longitude</th>\n",
       "      <th>latitude</th>\n",
       "      <th>housing_median_age</th>\n",
       "      <th>total_rooms</th>\n",
       "      <th>total_bedrooms</th>\n",
       "      <th>population</th>\n",
       "      <th>households</th>\n",
       "      <th>median_income</th>\n",
       "      <th>median_house_value</th>\n",
       "      <th>ocean_proximity</th>\n",
       "    </tr>\n",
       "  </thead>\n",
       "  <tbody>\n",
       "    <tr>\n",
       "      <th>0</th>\n",
       "      <td>-122.23</td>\n",
       "      <td>37.88</td>\n",
       "      <td>41.0</td>\n",
       "      <td>880.0</td>\n",
       "      <td>129.0</td>\n",
       "      <td>322.0</td>\n",
       "      <td>126.0</td>\n",
       "      <td>8.3252</td>\n",
       "      <td>452600.0</td>\n",
       "      <td>NEAR BAY</td>\n",
       "    </tr>\n",
       "    <tr>\n",
       "      <th>1</th>\n",
       "      <td>-122.22</td>\n",
       "      <td>37.86</td>\n",
       "      <td>21.0</td>\n",
       "      <td>7099.0</td>\n",
       "      <td>1106.0</td>\n",
       "      <td>2401.0</td>\n",
       "      <td>1138.0</td>\n",
       "      <td>8.3014</td>\n",
       "      <td>358500.0</td>\n",
       "      <td>NEAR BAY</td>\n",
       "    </tr>\n",
       "    <tr>\n",
       "      <th>2</th>\n",
       "      <td>-122.24</td>\n",
       "      <td>37.85</td>\n",
       "      <td>52.0</td>\n",
       "      <td>1467.0</td>\n",
       "      <td>190.0</td>\n",
       "      <td>496.0</td>\n",
       "      <td>177.0</td>\n",
       "      <td>7.2574</td>\n",
       "      <td>352100.0</td>\n",
       "      <td>NEAR BAY</td>\n",
       "    </tr>\n",
       "    <tr>\n",
       "      <th>3</th>\n",
       "      <td>-122.25</td>\n",
       "      <td>37.85</td>\n",
       "      <td>52.0</td>\n",
       "      <td>1274.0</td>\n",
       "      <td>235.0</td>\n",
       "      <td>558.0</td>\n",
       "      <td>219.0</td>\n",
       "      <td>5.6431</td>\n",
       "      <td>341300.0</td>\n",
       "      <td>NEAR BAY</td>\n",
       "    </tr>\n",
       "    <tr>\n",
       "      <th>4</th>\n",
       "      <td>-122.25</td>\n",
       "      <td>37.85</td>\n",
       "      <td>52.0</td>\n",
       "      <td>1627.0</td>\n",
       "      <td>280.0</td>\n",
       "      <td>565.0</td>\n",
       "      <td>259.0</td>\n",
       "      <td>3.8462</td>\n",
       "      <td>342200.0</td>\n",
       "      <td>NEAR BAY</td>\n",
       "    </tr>\n",
       "  </tbody>\n",
       "</table>\n",
       "</div>"
      ],
      "text/plain": [
       "   longitude  latitude  housing_median_age  total_rooms  total_bedrooms  \\\n",
       "0    -122.23     37.88                41.0        880.0           129.0   \n",
       "1    -122.22     37.86                21.0       7099.0          1106.0   \n",
       "2    -122.24     37.85                52.0       1467.0           190.0   \n",
       "3    -122.25     37.85                52.0       1274.0           235.0   \n",
       "4    -122.25     37.85                52.0       1627.0           280.0   \n",
       "\n",
       "   population  households  median_income  median_house_value ocean_proximity  \n",
       "0       322.0       126.0         8.3252            452600.0        NEAR BAY  \n",
       "1      2401.0      1138.0         8.3014            358500.0        NEAR BAY  \n",
       "2       496.0       177.0         7.2574            352100.0        NEAR BAY  \n",
       "3       558.0       219.0         5.6431            341300.0        NEAR BAY  \n",
       "4       565.0       259.0         3.8462            342200.0        NEAR BAY  "
      ]
     },
     "execution_count": 1,
     "metadata": {},
     "output_type": "execute_result"
    }
   ],
   "source": [
    "# create a function that downloads the data. \n",
    "# This is useful because the data could change.\n",
    "\n",
    "import os\n",
    "# The OS module in Python provides functions for creating and removing a directory (folder), \n",
    "# fetching its contents, changing and identifying the current directory, etc.\n",
    "import tarfile \n",
    "import urllib\n",
    "\n",
    "DOWNLOAD_ROOT = \"https://raw.githubusercontent.com/ageron/handson-ml2/master/\"\n",
    "HOUSING_PATH = os.path.join('datasets','housing')\n",
    "HOUSING_URL = DOWNLOAD_ROOT + 'datasets/housing/housing.tgz'\n",
    "\n",
    "# when I call fetch_housing_data(), it creates a datasets/housing directory in my workspace, \n",
    "# downloads the .tgz file and extracts the .csv file from it in this directory.\n",
    "def fetch_housing_data (housing_url = HOUSING_URL, housing_path = HOUSING_PATH):\n",
    "    os.makedirs(housing_path, exist_ok = True)           # crates the datasets/housing directory: makes all intermediate-level directories needed to contain the leaf directory.\n",
    "    tgz_path = os.path.join(housing_path, 'housing.tgz') # Join the two path components\n",
    "    urllib.request.urlretrieve(housing_url, tgz_path) \n",
    "    housing_tgz = tarfile.open(tgz_path)                 # Return a TarFile object for the pathname tgz_path\n",
    "                                                         # The tarfile module makes it possible to read and write tar archives, including those using gzip, bz2 and lzma compression.\n",
    "    housing_tgz.extractall(path = housing_path)\n",
    "    housing_tgz.close()\n",
    "    \n",
    "# now let's load the data with pandas\n",
    "\n",
    "import pandas as pd\n",
    "\n",
    "def load_housing_data(housing_path = HOUSING_PATH):\n",
    "    csv_path = os.path.join(housing_path, 'housing.csv')\n",
    "    return pd.read_csv(csv_path)\n",
    "\n",
    "fetch_housing_data()\n",
    "\n",
    "ho = load_housing_data()\n",
    "ho.head()"
   ]
  },
  {
   "cell_type": "markdown",
   "id": "a3e62637-9f07-459b-9e08-7c97a8c16eb6",
   "metadata": {},
   "source": [
    "## A quick look at the data"
   ]
  },
  {
   "cell_type": "code",
   "execution_count": null,
   "id": "4ad3f716-6c0c-43ca-b9e7-2563c0e7e4bb",
   "metadata": {},
   "outputs": [],
   "source": [
    "ho.info()"
   ]
  },
  {
   "cell_type": "code",
   "execution_count": null,
   "id": "100a4d3e-b5e8-42d5-bd82-a8fd3ed8a23e",
   "metadata": {},
   "outputs": [],
   "source": [
    "ho['ocean_proximity']. value_counts()"
   ]
  },
  {
   "cell_type": "code",
   "execution_count": null,
   "id": "35c72fee-26fe-4f12-b7b1-5b883f49e09f",
   "metadata": {},
   "outputs": [],
   "source": [
    "ho.describe()"
   ]
  },
  {
   "cell_type": "code",
   "execution_count": null,
   "id": "de14b12e-a26d-4889-b2b0-ffbd8562d1bc",
   "metadata": {},
   "outputs": [],
   "source": [
    "%matplotlib inline \n",
    "import matplotlib.pyplot as plt\n",
    "\n",
    "ho.hist(bins= 50, figsize = (20,15))\n",
    "plt.show()"
   ]
  },
  {
   "cell_type": "markdown",
   "id": "e1665d25-c625-4b8d-984b-fad5043836ec",
   "metadata": {},
   "source": [
    "## Create a test set"
   ]
  },
  {
   "cell_type": "code",
   "execution_count": 2,
   "id": "712c4c4e-8fd0-4db7-bce8-46266726bcd3",
   "metadata": {},
   "outputs": [
    {
     "data": {
      "text/html": [
       "<div>\n",
       "<style scoped>\n",
       "    .dataframe tbody tr th:only-of-type {\n",
       "        vertical-align: middle;\n",
       "    }\n",
       "\n",
       "    .dataframe tbody tr th {\n",
       "        vertical-align: top;\n",
       "    }\n",
       "\n",
       "    .dataframe thead th {\n",
       "        text-align: right;\n",
       "    }\n",
       "</style>\n",
       "<table border=\"1\" class=\"dataframe\">\n",
       "  <thead>\n",
       "    <tr style=\"text-align: right;\">\n",
       "      <th></th>\n",
       "      <th>longitude</th>\n",
       "      <th>latitude</th>\n",
       "      <th>housing_median_age</th>\n",
       "      <th>total_rooms</th>\n",
       "      <th>total_bedrooms</th>\n",
       "      <th>population</th>\n",
       "      <th>households</th>\n",
       "      <th>median_income</th>\n",
       "      <th>median_house_value</th>\n",
       "      <th>ocean_proximity</th>\n",
       "    </tr>\n",
       "  </thead>\n",
       "  <tbody>\n",
       "    <tr>\n",
       "      <th>14196</th>\n",
       "      <td>-117.03</td>\n",
       "      <td>32.71</td>\n",
       "      <td>33.0</td>\n",
       "      <td>3126.0</td>\n",
       "      <td>627.0</td>\n",
       "      <td>2300.0</td>\n",
       "      <td>623.0</td>\n",
       "      <td>3.2596</td>\n",
       "      <td>103000.0</td>\n",
       "      <td>NEAR OCEAN</td>\n",
       "    </tr>\n",
       "    <tr>\n",
       "      <th>8267</th>\n",
       "      <td>-118.16</td>\n",
       "      <td>33.77</td>\n",
       "      <td>49.0</td>\n",
       "      <td>3382.0</td>\n",
       "      <td>787.0</td>\n",
       "      <td>1314.0</td>\n",
       "      <td>756.0</td>\n",
       "      <td>3.8125</td>\n",
       "      <td>382100.0</td>\n",
       "      <td>NEAR OCEAN</td>\n",
       "    </tr>\n",
       "    <tr>\n",
       "      <th>17445</th>\n",
       "      <td>-120.48</td>\n",
       "      <td>34.66</td>\n",
       "      <td>4.0</td>\n",
       "      <td>1897.0</td>\n",
       "      <td>331.0</td>\n",
       "      <td>915.0</td>\n",
       "      <td>336.0</td>\n",
       "      <td>4.1563</td>\n",
       "      <td>172600.0</td>\n",
       "      <td>NEAR OCEAN</td>\n",
       "    </tr>\n",
       "    <tr>\n",
       "      <th>14265</th>\n",
       "      <td>-117.11</td>\n",
       "      <td>32.69</td>\n",
       "      <td>36.0</td>\n",
       "      <td>1421.0</td>\n",
       "      <td>367.0</td>\n",
       "      <td>1418.0</td>\n",
       "      <td>355.0</td>\n",
       "      <td>1.9425</td>\n",
       "      <td>93400.0</td>\n",
       "      <td>NEAR OCEAN</td>\n",
       "    </tr>\n",
       "    <tr>\n",
       "      <th>2271</th>\n",
       "      <td>-119.80</td>\n",
       "      <td>36.78</td>\n",
       "      <td>43.0</td>\n",
       "      <td>2382.0</td>\n",
       "      <td>431.0</td>\n",
       "      <td>874.0</td>\n",
       "      <td>380.0</td>\n",
       "      <td>3.5542</td>\n",
       "      <td>96500.0</td>\n",
       "      <td>INLAND</td>\n",
       "    </tr>\n",
       "  </tbody>\n",
       "</table>\n",
       "</div>"
      ],
      "text/plain": [
       "       longitude  latitude  housing_median_age  total_rooms  total_bedrooms  \\\n",
       "14196    -117.03     32.71                33.0       3126.0           627.0   \n",
       "8267     -118.16     33.77                49.0       3382.0           787.0   \n",
       "17445    -120.48     34.66                 4.0       1897.0           331.0   \n",
       "14265    -117.11     32.69                36.0       1421.0           367.0   \n",
       "2271     -119.80     36.78                43.0       2382.0           431.0   \n",
       "\n",
       "       population  households  median_income  median_house_value  \\\n",
       "14196      2300.0       623.0         3.2596            103000.0   \n",
       "8267       1314.0       756.0         3.8125            382100.0   \n",
       "17445       915.0       336.0         4.1563            172600.0   \n",
       "14265      1418.0       355.0         1.9425             93400.0   \n",
       "2271        874.0       380.0         3.5542             96500.0   \n",
       "\n",
       "      ocean_proximity  \n",
       "14196      NEAR OCEAN  \n",
       "8267       NEAR OCEAN  \n",
       "17445      NEAR OCEAN  \n",
       "14265      NEAR OCEAN  \n",
       "2271           INLAND  "
      ]
     },
     "execution_count": 2,
     "metadata": {},
     "output_type": "execute_result"
    }
   ],
   "source": [
    "# split a test set\n",
    "\n",
    "import numpy as np\n",
    "\n",
    "# create our train_test_split function!\n",
    "def split_train_test(df, test_size= 0.2, random_state = 42):\n",
    "    shuffled_indices = np.random.RandomState(seed = random_state).permutation(len(df))   # fix a random seed so that I don't work with different datasets everytime\n",
    "    test_set_size = int(len(df) * test_size)\n",
    "    test_indices = shuffled_indices[: test_set_size]\n",
    "    train_indices = shuffled_indices[test_set_size:]\n",
    "    return df.iloc[train_indices], df.iloc[test_indices]\n",
    "\n",
    "train_set, test_set = split_train_test(ho)\n",
    "train_set.head()"
   ]
  },
  {
   "cell_type": "code",
   "execution_count": 4,
   "id": "0b64f5fa-2fc9-4ad5-8081-fa618b51284a",
   "metadata": {},
   "outputs": [
    {
     "data": {
      "text/plain": [
       "<AxesSubplot:>"
      ]
     },
     "execution_count": 4,
     "metadata": {},
     "output_type": "execute_result"
    },
    {
     "data": {
      "image/png": "[encoded data removed]",
      "text/plain": [
       "<Figure size 432x288 with 1 Axes>"
      ]
     },
     "metadata": {
      "needs_background": "light"
     },
     "output_type": "display_data"
    }
   ],
   "source": [
    "# the sample might have bias! Suppose they told us the median income is a very important factor to predict median housing prices.\n",
    "# We perform a stratified sampling based on this information.\n",
    "\n",
    "ho['income_cat'] = pd.cut(ho['median_income'], bins =[0., 1.5, 3.0, 4.5, 6., np.inf],\n",
    "                          labels = [1,2,3,4,5])\n",
    "ho['income_cat'].hist()"
   ]
  },
  {
   "cell_type": "code",
   "execution_count": 5,
   "id": "b1a5552b-94e8-4422-abac-a55be408c0e7",
   "metadata": {},
   "outputs": [
    {
     "name": "stdout",
     "output_type": "stream",
     "text": [
      "Stratified test set:\n",
      " 3    0.350533\n",
      "2    0.318798\n",
      "4    0.176357\n",
      "5    0.114583\n",
      "1    0.039729\n",
      "Name: income_cat, dtype: float64 \n",
      "\n",
      "Whole dataframe:\n",
      " 3    0.350581\n",
      "2    0.318847\n",
      "4    0.176308\n",
      "5    0.114438\n",
      "1    0.039826\n",
      "Name: income_cat, dtype: float64 \n",
      "\n",
      "Random test set:\n",
      " 3    0.358527\n",
      "2    0.324370\n",
      "4    0.167393\n",
      "5    0.109496\n",
      "1    0.040213\n",
      "Name: median_income, dtype: float64\n"
     ]
    }
   ],
   "source": [
    "from sklearn.model_selection import StratifiedShuffleSplit\n",
    "\n",
    "split = StratifiedShuffleSplit(n_splits = 1,\n",
    "                              test_size = 0.2, \n",
    "                              random_state=42)\n",
    "\n",
    "for train_index, test_index in split.split(ho,ho['income_cat']):\n",
    "    strat_train_set = ho.loc[train_index]\n",
    "    strat_test_set = ho.loc[test_index]\n",
    "\n",
    "# check: let'see the proportions in the test set vs the whole dataframe\n",
    "print('Stratified test set:\\n',strat_test_set['income_cat'].value_counts()/ len (strat_test_set),'\\n')\n",
    "print('Whole dataframe:\\n', ho['income_cat'].value_counts()/ len (ho),'\\n')\n",
    "# they agree :)\n",
    "print('Random test set:\\n', pd.cut(test_set['median_income'], bins =[0., 1.5, 3.0, 4.5, 6., np.inf],\n",
    "                          labels = [1,2,3,4,5]).value_counts()/ len (test_set))"
   ]
  },
  {
   "cell_type": "code",
   "execution_count": 6,
   "id": "b25aadde-06e2-4293-a461-885bf348cceb",
   "metadata": {},
   "outputs": [],
   "source": [
    "# now we remove the income_cat attribute\n",
    "for set_ in (strat_train_set, strat_test_set):\n",
    "    set_.drop('income_cat', axis=1, inplace=True)"
   ]
  },
  {
   "cell_type": "markdown",
   "id": "0a4db94e-ca37-437d-b43c-232f60cb1a1a",
   "metadata": {},
   "source": [
    "## Data visualization"
   ]
  },
  {
   "cell_type": "code",
   "execution_count": null,
   "id": "e6524cfd-bf11-4f0d-bff9-8de530c187ca",
   "metadata": {},
   "outputs": [],
   "source": [
    "ho =strat_train_set.copy()"
   ]
  },
  {
   "cell_type": "code",
   "execution_count": null,
   "id": "d1d58efc-7e48-467e-bb6c-b67cf858a6de",
   "metadata": {},
   "outputs": [],
   "source": [
    "# geographical data\n",
    "\n",
    "ho.plot(kind='scatter', x='longitude', y='latitude', alpha= 0.1) # the alpha make it esaier to see places with high density of points\n",
    "# looks like California"
   ]
  },
  {
   "cell_type": "code",
   "execution_count": null,
   "id": "965cb47b-f7d0-4b4d-bc27-424338136bbf",
   "metadata": {},
   "outputs": [],
   "source": [
    "ho.plot(kind='scatter', x='longitude', y='latitude', alpha=0.4,\n",
    "       s= ho['population']/100, label= 'population', figsize = (10,7),\n",
    "       c= 'median_house_value', cmap= plt.get_cmap('jet'), colorbar= True)\n",
    "plt.legend()\n",
    "\n",
    "# house prices are very much related to the location"
   ]
  },
  {
   "cell_type": "code",
   "execution_count": null,
   "id": "2d3a5576-ea09-4207-b097-d95c4e89ef47",
   "metadata": {},
   "outputs": [],
   "source": [
    "# CODE FOR NICER FIGURE:\n",
    "\n",
    "\n",
    "# To plot pretty figures\n",
    "%matplotlib inline\n",
    "import matplotlib as mpl\n",
    "import matplotlib.pyplot as plt\n",
    "mpl.rc('axes', labelsize=14)\n",
    "mpl.rc('xtick', labelsize=12)\n",
    "mpl.rc('ytick', labelsize=12)\n",
    "\n",
    "# Where to save the figures\n",
    "PROJECT_ROOT_DIR = \".\"\n",
    "CHAPTER_ID = \"end_to_end_project\"\n",
    "IMAGES_PATH = os.path.join(PROJECT_ROOT_DIR, \"images\", CHAPTER_ID)\n",
    "os.makedirs(IMAGES_PATH, exist_ok=True)\n",
    "\n",
    "def save_fig(fig_id, tight_layout=True, fig_extension=\"png\", resolution=300):\n",
    "    path = os.path.join(IMAGES_PATH, fig_id + \".\" + fig_extension)\n",
    "    print(\"Saving figure\", fig_id)\n",
    "    if tight_layout:\n",
    "        plt.tight_layout()\n",
    "    plt.savefig(path, format=fig_extension, dpi=resolution)\n",
    "\n",
    "# Download the California image\n",
    "images_path = os.path.join(PROJECT_ROOT_DIR, \"images\", \"end_to_end_project\")\n",
    "os.makedirs(images_path, exist_ok=True)\n",
    "DOWNLOAD_ROOT = \"https://raw.githubusercontent.com/ageron/handson-ml2/master/\"\n",
    "filename = \"california.png\"\n",
    "print(\"Downloading\", filename)\n",
    "url = DOWNLOAD_ROOT + \"images/end_to_end_project/\" + filename\n",
    "urllib.request.urlretrieve(url, os.path.join(images_path, filename))\n",
    "\n",
    "import matplotlib.image as mpimg\n",
    "california_img=mpimg.imread(os.path.join(images_path, filename))\n",
    "ax = ho.plot(kind=\"scatter\", x=\"longitude\", y=\"latitude\", figsize=(10,7),\n",
    "                  s=ho['population']/100, label=\"Population\",\n",
    "                  c=\"median_house_value\", cmap=plt.get_cmap(\"jet\"),\n",
    "                  colorbar=False, alpha=0.4)\n",
    "plt.imshow(california_img, extent=[-124.55, -113.80, 32.45, 42.05], alpha=0.5,\n",
    "           cmap=plt.get_cmap(\"jet\"))\n",
    "plt.ylabel(\"Latitude\", fontsize=14)\n",
    "plt.xlabel(\"Longitude\", fontsize=14)\n",
    "\n",
    "prices = ho[\"median_house_value\"]\n",
    "tick_values = np.linspace(prices.min(), prices.max(), 11)\n",
    "cbar = plt.colorbar(ticks=tick_values/prices.max())\n",
    "cbar.ax.set_yticklabels([\"$%dk\"%(round(v/1000)) for v in tick_values], fontsize=14)\n",
    "cbar.set_label('Median House Value', fontsize=16)\n",
    "\n",
    "plt.legend(fontsize=16)\n",
    "save_fig(\"california_housing_prices_plot\")\n",
    "plt.show()"
   ]
  },
  {
   "cell_type": "markdown",
   "id": "8eb907c3-ec10-459e-993d-2500ec74ae8e",
   "metadata": {},
   "source": [
    "## Looking for correlations"
   ]
  },
  {
   "cell_type": "code",
   "execution_count": null,
   "id": "58a09e03-1c4c-496d-82f1-73d4f080a12b",
   "metadata": {},
   "outputs": [],
   "source": [
    "corr_matrix= ho.corr()\n",
    "\n",
    "# lets see how much each attribute correlates with house price\n",
    "corr_matrix['median_house_value'].sort_values(ascending=False)\n",
    "\n",
    "# Rk: negative with latitude. Prices go down if I go north!\n",
    "\n",
    "# Remember it measures only LINEAR relatioships!"
   ]
  },
  {
   "cell_type": "code",
   "execution_count": null,
   "id": "bb55cc15-25aa-441b-bcc2-948808ebdd45",
   "metadata": {},
   "outputs": [],
   "source": [
    "from pandas.plotting import scatter_matrix\n",
    "\n",
    "# we focus on some promising attributes\n",
    "\n",
    "attr = ['median_house_value', 'median_income',\n",
    "       'total_rooms', 'housing_median_age']\n",
    "\n",
    "scatter_matrix(ho[attr], figsize = (12,8))"
   ]
  },
  {
   "cell_type": "code",
   "execution_count": null,
   "id": "635f4463-714d-4cdd-b30d-8ab12264835b",
   "metadata": {},
   "outputs": [],
   "source": [
    "# median_income looks promising. Let's zoom in\n",
    "\n",
    "ho.plot(kind= 'scatter', x= 'median_income', y='median_house_value', alpha= 0.1)\n",
    "\n",
    "# Rk: around 450k and 350 there are some lines.. we'have to remove them to not confuse the machine"
   ]
  },
  {
   "cell_type": "markdown",
   "id": "f6059066-6cd6-4aec-b090-8a01dcbea1a0",
   "metadata": {},
   "source": [
    "## Creating new attributes"
   ]
  },
  {
   "cell_type": "code",
   "execution_count": null,
   "id": "185c0a37-0dd6-4f5d-a5a2-cb8a6f13d55e",
   "metadata": {},
   "outputs": [],
   "source": [
    "ho['rooms_per_hausehold'] = ho['total_rooms']/ho['households']\n",
    "ho['bedrooms_per_room'] = ho['total_bedrooms']/ho['total_rooms']\n",
    "ho['population_per_household'] = ho['population']/ho['households']\n",
    "\n",
    "corr_matrix = ho.corr()\n",
    "corr_matrix['median_house_value'].sort_values(ascending=False)\n"
   ]
  },
  {
   "cell_type": "markdown",
   "id": "6ace0b39-76e0-48f3-8a78-adcc539ec377",
   "metadata": {},
   "source": [
    "## Prepare Data for ML"
   ]
  },
  {
   "cell_type": "code",
   "execution_count": 7,
   "id": "f786bcc5-4e60-4fdb-8df0-1c342c8c4f78",
   "metadata": {},
   "outputs": [],
   "source": [
    "# back to strat_train_set\n",
    "\n",
    "ho = strat_train_set.drop('median_house_value', axis=1) # drop labels for training set\n",
    "ho_labels = strat_train_set['median_house_value'].copy()"
   ]
  },
  {
   "cell_type": "code",
   "execution_count": 8,
   "id": "ec2d4083-76f7-4774-a614-73408350f98f",
   "metadata": {},
   "outputs": [
    {
     "name": "stdout",
     "output_type": "stream",
     "text": [
      "imputer.statistics_:\n",
      " [-118.51     34.26     29.     2119.5     433.     1164.      408.\n",
      "    3.5409] \n",
      "\n",
      "<class 'pandas.core.frame.DataFrame'>\n",
      "Int64Index: 16512 entries, 17606 to 15775\n",
      "Data columns (total 8 columns):\n",
      " #   Column              Non-Null Count  Dtype  \n",
      "---  ------              --------------  -----  \n",
      " 0   longitude           16512 non-null  float64\n",
      " 1   latitude            16512 non-null  float64\n",
      " 2   housing_median_age  16512 non-null  float64\n",
      " 3   total_rooms         16512 non-null  float64\n",
      " 4   total_bedrooms      16512 non-null  float64\n",
      " 5   population          16512 non-null  float64\n",
      " 6   households          16512 non-null  float64\n",
      " 7   median_income       16512 non-null  float64\n",
      "dtypes: float64(8)\n",
      "memory usage: 1.1 MB\n"
     ]
    }
   ],
   "source": [
    "# total_bedrooms has missing values\n",
    "\n",
    "# can get rid of the corresponding districts:\n",
    "# ho.dropna(subset= ['total_bedrooms'])\n",
    "\n",
    "# or get rid of the whole attribute\n",
    "# ho.drop('total_bedrooms', axis =1)\n",
    "\n",
    "# but I choose to fill them with the median value\n",
    "# median_bed = ho['total_bedrooms'].median()\n",
    "# ho['total_bedrooms'].fillna(median_bed, inplace= True)\n",
    "\n",
    "# actually SimpleImputer takes care of that:\n",
    "\n",
    "from sklearn.impute import SimpleImputer\n",
    "\n",
    "imputer = SimpleImputer(strategy = 'median')\n",
    "# have to consider only numerical data:\n",
    "ho_num = ho.drop('ocean_proximity', axis=1)\n",
    "imputer.fit(ho_num)\n",
    "\n",
    "print('imputer.statistics_:\\n',imputer.statistics_,'\\n') # all the medians.. same as ho_num.median().values\n",
    "\n",
    "X = imputer.transform(ho_num) # fill missing values with median. It is an array!!\n",
    "ho_tr = pd.DataFrame(X, columns= ho_num.columns, index = ho_num.index)\n",
    "\n",
    "ho_tr.info()"
   ]
  },
  {
   "cell_type": "code",
   "execution_count": 33,
   "id": "cc742622-7b81-45de-a62c-8e08e76d71a7",
   "metadata": {},
   "outputs": [
    {
     "name": "stdout",
     "output_type": "stream",
     "text": [
      "ocean_proximity:\n",
      " <1H OCEAN     7276\n",
      "INLAND        5263\n",
      "NEAR OCEAN    2124\n",
      "NEAR BAY      1847\n",
      "ISLAND           2\n",
      "Name: ocean_proximity, dtype: int64 \n",
      "\n",
      "ord_enc.categories_: [array(['<1H OCEAN', 'INLAND', 'ISLAND', 'NEAR BAY', 'NEAR OCEAN'],\n",
      "      dtype=object)] \n",
      "\n"
     ]
    },
    {
     "data": {
      "text/plain": [
       "[array(['<1H OCEAN', 'INLAND', 'ISLAND', 'NEAR BAY', 'NEAR OCEAN'],\n",
       "       dtype=object)]"
      ]
     },
     "execution_count": 33,
     "metadata": {},
     "output_type": "execute_result"
    }
   ],
   "source": [
    "# Let's deal with categorical attributes:\n",
    "print('ocean_proximity:\\n',ho['ocean_proximity'].value_counts(), '\\n')\n",
    "\n",
    "ho_cat = ho[['ocean_proximity']]\n",
    "\n",
    "# can use Ordinalencoder:\n",
    "from sklearn. preprocessing import OrdinalEncoder\n",
    "ord_enc = OrdinalEncoder()\n",
    "ho_cat_enc = ord_enc.fit_transform(ho_cat)\n",
    "\n",
    "print('ord_enc.categories_:', ord_enc.categories_,'\\n')\n",
    "\n",
    "# but it's better to use dummies:\n",
    "from sklearn. preprocessing import OneHotEncoder\n",
    "hot_enc = OneHotEncoder()\n",
    "ho_hot_enc = hot_enc.fit_transform(ho_cat)\n",
    "ho_hot_enc.toarray()   # it is a sparse matrix otherwise\n",
    "\n",
    "hot_enc.categories_"
   ]
  },
  {
   "cell_type": "code",
   "execution_count": 10,
   "id": "c94a382e-bbb4-4f81-908f-35ed4dad442f",
   "metadata": {},
   "outputs": [],
   "source": [
    "from sklearn.base import BaseEstimator, TransformerMixin\n",
    "\n",
    "# column index\n",
    "col_names = \"total_rooms\", \"total_bedrooms\", \"population\", \"households\"\n",
    "rooms_ix, bedrooms_ix, population_ix, households_ix = [ho.columns.get_loc(c) for c in col_names] # get the column indices\n",
    "\n",
    "class CombinedAttributesAdder(BaseEstimator, TransformerMixin):\n",
    "    # BaseEstimator gets the extra methods get_params() and set_params()\n",
    "    # TransformerMixin gives the fit_transform() method for free\n",
    "    \n",
    "    def __init__(self, add_bedrooms_per_room=True): # no *args or **kargs\n",
    "        self.add_bedrooms_per_room = add_bedrooms_per_room\n",
    "        \n",
    "    def fit(self, X, y=None):\n",
    "        return self  # nothing else to do\n",
    "    \n",
    "    def transform(self, X):\n",
    "        rooms_per_household = X[:, rooms_ix] / X[:, households_ix]\n",
    "        population_per_household = X[:, population_ix] / X[:, households_ix]\n",
    "        if self.add_bedrooms_per_room:\n",
    "            bedrooms_per_room = X[:, bedrooms_ix] / X[:, rooms_ix]\n",
    "            return np.c_[X, rooms_per_household, population_per_household,\n",
    "                         bedrooms_per_room]\n",
    "            # np.c_ translates slice objects to concatenation along the second axis.\n",
    "        else:\n",
    "            return np.c_[X, rooms_per_household, population_per_household]\n",
    "\n",
    "attr_adder = CombinedAttributesAdder(add_bedrooms_per_room=False)\n",
    "ho_extra_attribs = attr_adder.transform(ho.values)"
   ]
  },
  {
   "cell_type": "code",
   "execution_count": 11,
   "id": "3b501d91-7329-4163-9f3c-12b054a68b41",
   "metadata": {
    "tags": []
   },
   "outputs": [
    {
     "data": {
      "text/html": [
       "<div>\n",
       "<style scoped>\n",
       "    .dataframe tbody tr th:only-of-type {\n",
       "        vertical-align: middle;\n",
       "    }\n",
       "\n",
       "    .dataframe tbody tr th {\n",
       "        vertical-align: top;\n",
       "    }\n",
       "\n",
       "    .dataframe thead th {\n",
       "        text-align: right;\n",
       "    }\n",
       "</style>\n",
       "<table border=\"1\" class=\"dataframe\">\n",
       "  <thead>\n",
       "    <tr style=\"text-align: right;\">\n",
       "      <th></th>\n",
       "      <th>longitude</th>\n",
       "      <th>latitude</th>\n",
       "      <th>housing_median_age</th>\n",
       "      <th>total_rooms</th>\n",
       "      <th>total_bedrooms</th>\n",
       "      <th>population</th>\n",
       "      <th>households</th>\n",
       "      <th>median_income</th>\n",
       "      <th>ocean_proximity</th>\n",
       "      <th>rooms_per_household</th>\n",
       "      <th>population_per_household</th>\n",
       "    </tr>\n",
       "  </thead>\n",
       "  <tbody>\n",
       "    <tr>\n",
       "      <th>17606</th>\n",
       "      <td>-121.89</td>\n",
       "      <td>37.29</td>\n",
       "      <td>38.0</td>\n",
       "      <td>1568.0</td>\n",
       "      <td>351.0</td>\n",
       "      <td>710.0</td>\n",
       "      <td>339.0</td>\n",
       "      <td>2.7042</td>\n",
       "      <td>&lt;1H OCEAN</td>\n",
       "      <td>4.625369</td>\n",
       "      <td>2.094395</td>\n",
       "    </tr>\n",
       "    <tr>\n",
       "      <th>18632</th>\n",
       "      <td>-121.93</td>\n",
       "      <td>37.05</td>\n",
       "      <td>14.0</td>\n",
       "      <td>679.0</td>\n",
       "      <td>108.0</td>\n",
       "      <td>306.0</td>\n",
       "      <td>113.0</td>\n",
       "      <td>6.4214</td>\n",
       "      <td>&lt;1H OCEAN</td>\n",
       "      <td>6.00885</td>\n",
       "      <td>2.707965</td>\n",
       "    </tr>\n",
       "    <tr>\n",
       "      <th>14650</th>\n",
       "      <td>-117.2</td>\n",
       "      <td>32.77</td>\n",
       "      <td>31.0</td>\n",
       "      <td>1952.0</td>\n",
       "      <td>471.0</td>\n",
       "      <td>936.0</td>\n",
       "      <td>462.0</td>\n",
       "      <td>2.8621</td>\n",
       "      <td>NEAR OCEAN</td>\n",
       "      <td>4.225108</td>\n",
       "      <td>2.025974</td>\n",
       "    </tr>\n",
       "    <tr>\n",
       "      <th>3230</th>\n",
       "      <td>-119.61</td>\n",
       "      <td>36.31</td>\n",
       "      <td>25.0</td>\n",
       "      <td>1847.0</td>\n",
       "      <td>371.0</td>\n",
       "      <td>1460.0</td>\n",
       "      <td>353.0</td>\n",
       "      <td>1.8839</td>\n",
       "      <td>INLAND</td>\n",
       "      <td>5.232295</td>\n",
       "      <td>4.135977</td>\n",
       "    </tr>\n",
       "    <tr>\n",
       "      <th>3555</th>\n",
       "      <td>-118.59</td>\n",
       "      <td>34.23</td>\n",
       "      <td>17.0</td>\n",
       "      <td>6592.0</td>\n",
       "      <td>1525.0</td>\n",
       "      <td>4459.0</td>\n",
       "      <td>1463.0</td>\n",
       "      <td>3.0347</td>\n",
       "      <td>&lt;1H OCEAN</td>\n",
       "      <td>4.50581</td>\n",
       "      <td>3.047847</td>\n",
       "    </tr>\n",
       "  </tbody>\n",
       "</table>\n",
       "</div>"
      ],
      "text/plain": [
       "      longitude latitude housing_median_age total_rooms total_bedrooms  \\\n",
       "17606   -121.89    37.29               38.0      1568.0          351.0   \n",
       "18632   -121.93    37.05               14.0       679.0          108.0   \n",
       "14650    -117.2    32.77               31.0      1952.0          471.0   \n",
       "3230    -119.61    36.31               25.0      1847.0          371.0   \n",
       "3555    -118.59    34.23               17.0      6592.0         1525.0   \n",
       "\n",
       "      population households median_income ocean_proximity rooms_per_household  \\\n",
       "17606      710.0      339.0        2.7042       <1H OCEAN            4.625369   \n",
       "18632      306.0      113.0        6.4214       <1H OCEAN             6.00885   \n",
       "14650      936.0      462.0        2.8621      NEAR OCEAN            4.225108   \n",
       "3230      1460.0      353.0        1.8839          INLAND            5.232295   \n",
       "3555      4459.0     1463.0        3.0347       <1H OCEAN             4.50581   \n",
       "\n",
       "      population_per_household  \n",
       "17606                 2.094395  \n",
       "18632                 2.707965  \n",
       "14650                 2.025974  \n",
       "3230                  4.135977  \n",
       "3555                  3.047847  "
      ]
     },
     "execution_count": 11,
     "metadata": {},
     "output_type": "execute_result"
    }
   ],
   "source": [
    "# ho_extra_attribs is a NumPy array, we've lost the column names. To recover a DataFrame, run this:\n",
    "\n",
    "ho_extra_attribs = pd.DataFrame(\n",
    "    ho_extra_attribs,\n",
    "    columns=list(ho.columns)+[\"rooms_per_household\", \"population_per_household\"],\n",
    "    index=ho.index)\n",
    "ho_extra_attribs.head()"
   ]
  },
  {
   "cell_type": "code",
   "execution_count": 34,
   "id": "f6a01bfa-8b69-4f5b-ba4d-fa24a2ebf3e8",
   "metadata": {},
   "outputs": [
    {
     "data": {
      "text/plain": [
       "array([[-1.15604281,  0.77194962,  0.74333089, ..., -0.31205452,\n",
       "        -0.08649871,  0.15531753],\n",
       "       [-1.17602483,  0.6596948 , -1.1653172 , ...,  0.21768338,\n",
       "        -0.03353391, -0.83628902],\n",
       "       [ 1.18684903, -1.34218285,  0.18664186, ..., -0.46531516,\n",
       "        -0.09240499,  0.4222004 ],\n",
       "       ...,\n",
       "       [ 1.58648943, -0.72478134, -1.56295222, ...,  0.3469342 ,\n",
       "        -0.03055414, -0.52177644],\n",
       "       [ 0.78221312, -0.85106801,  0.18664186, ...,  0.02499488,\n",
       "         0.06150916, -0.30340741],\n",
       "       [-1.43579109,  0.99645926,  1.85670895, ..., -0.22852947,\n",
       "        -0.09586294,  0.10180567]])"
      ]
     },
     "execution_count": 34,
     "metadata": {},
     "output_type": "execute_result"
    }
   ],
   "source": [
    "# in practice, it is useful to use Pipelines:\n",
    "\n",
    "from sklearn.pipeline import Pipeline\n",
    "from sklearn.preprocessing import StandardScaler\n",
    "\n",
    "ho_num = ho.drop('ocean_proximity', axis=1)\n",
    "ho_cat = ho[['ocean_proximity']]\n",
    "\n",
    "\n",
    "num_pipeline= Pipeline([\n",
    "        ('imputer', SimpleImputer(strategy= 'median')),\n",
    "        ('attribs_adder', CombinedAttributesAdder()),\n",
    "        ('std_scaler', StandardScaler()),\n",
    "    ])\n",
    "\n",
    "ho_num_tra = num_pipeline.fit_transform(ho_num)\n",
    "ho_num_tra"
   ]
  },
  {
   "cell_type": "code",
   "execution_count": 13,
   "id": "36676173-eda8-4a1b-8f88-2084b5d9dac8",
   "metadata": {},
   "outputs": [],
   "source": [
    "# even better, a single transformer for numerical and categorical data:\n",
    "\n",
    "num_attr = list(ho_num)\n",
    "cat_attr = ['ocean_proximity']\n",
    "\n",
    "from sklearn.compose import ColumnTransformer\n",
    "\n",
    "full_pipeline = ColumnTransformer([\n",
    "            ('num', num_pipeline, num_attr), # name, tranformer, list of columns that the trans should be applied to\n",
    "            ('cat', OneHotEncoder(), cat_attr),\n",
    "        ])\n",
    "\n",
    "ho_ready = full_pipeline.fit_transform(ho)"
   ]
  },
  {
   "cell_type": "code",
   "execution_count": 14,
   "id": "b856f74c-a5dc-4615-b221-a0d1c6a967cd",
   "metadata": {
    "scrolled": true
   },
   "outputs": [
    {
     "data": {
      "text/plain": [
       "array([[-1.15604281,  0.77194962,  0.74333089, ...,  0.        ,\n",
       "         0.        ,  0.        ],\n",
       "       [-1.17602483,  0.6596948 , -1.1653172 , ...,  0.        ,\n",
       "         0.        ,  0.        ],\n",
       "       [ 1.18684903, -1.34218285,  0.18664186, ...,  0.        ,\n",
       "         0.        ,  1.        ],\n",
       "       ...,\n",
       "       [ 1.58648943, -0.72478134, -1.56295222, ...,  0.        ,\n",
       "         0.        ,  0.        ],\n",
       "       [ 0.78221312, -0.85106801,  0.18664186, ...,  0.        ,\n",
       "         0.        ,  0.        ],\n",
       "       [-1.43579109,  0.99645926,  1.85670895, ...,  0.        ,\n",
       "         1.        ,  0.        ]])"
      ]
     },
     "execution_count": 14,
     "metadata": {},
     "output_type": "execute_result"
    }
   ],
   "source": [
    "ho_ready"
   ]
  },
  {
   "cell_type": "markdown",
   "id": "8f09d01c-349c-4417-be49-f1afb511c957",
   "metadata": {},
   "source": [
    "## Select and train the model"
   ]
  },
  {
   "cell_type": "code",
   "execution_count": 15,
   "id": "3953face",
   "metadata": {},
   "outputs": [],
   "source": [
    "from sklearn.metrics import mean_squared_error\n",
    "from sklearn.model_selection import cross_val_score\n",
    "\n",
    "\n",
    "# let's keep this as a function that we'll need it\n",
    "\n",
    "def display_scores(scores):\n",
    "    print('Scores: ', scores)\n",
    "    print('Mean: ', scores.mean())\n",
    "    print('Scores std: ', scores.std())"
   ]
  },
  {
   "cell_type": "markdown",
   "id": "8feba2cf",
   "metadata": {},
   "source": [
    "#### Linear regression"
   ]
  },
  {
   "cell_type": "code",
   "execution_count": 16,
   "id": "5dd4dce0-192b-430c-9ade-a41ed1410c97",
   "metadata": {},
   "outputs": [
    {
     "name": "stdout",
     "output_type": "stream",
     "text": [
      "Scores:  [66782.73843989 66960.118071   70347.95244419 74739.57052552\n",
      " 68031.13388938 71193.84183426 64969.63056405 68281.61137997\n",
      " 71552.91566558 67665.10082067]\n",
      "Mean:  69052.46136345083\n",
      "Scores std:  2731.674001798342\n"
     ]
    }
   ],
   "source": [
    "from sklearn.linear_model import LinearRegression\n",
    "\n",
    "lin_reg = LinearRegression()\n",
    "\n",
    "scores = cross_val_score(lin_reg, ho_ready, ho_labels, scoring ='neg_mean_squared_error', cv = 10) # recall cv means it takes 10 subsets\n",
    "lin_rmse_scores = np.sqrt(-scores)\n",
    "display_scores(lin_rmse_scores)"
   ]
  },
  {
   "cell_type": "code",
   "execution_count": null,
   "id": "837191b0",
   "metadata": {
    "scrolled": false
   },
   "outputs": [],
   "source": [
    "# it's better to add some parameters...\n",
    "from sklearn.linear_model import Ridge\n",
    "\n",
    "ridge_reg = Ridge()\n",
    "\n",
    "params_Ridge = {'alpha': [1,0.1,0.01,0.001,0.0001,0] , \"fit_intercept\": [True, False], \"solver\": ['svd', 'cholesky', 'lsqr', 'sparse_cg', 'sag', 'saga']}\n",
    "ridge_grid_Search = GridSearchCV(ridge_reg, param_grid=params_Ridge, cv = 5, scoring = 'neg_mean_squared_error', return_train_score=True)\n",
    "\n",
    "ridge_grid_Search.fit(ho_ready, ho_labels)\n",
    "ridge_grid_Search.best_params_\n",
    "\n",
    "# mah... the lin_reg it's better (alpha=0, indeed)!!\n",
    "# I tried, same story with lasso."
   ]
  },
  {
   "cell_type": "markdown",
   "id": "6202a185",
   "metadata": {},
   "source": [
    "#### Trees and forests"
   ]
  },
  {
   "cell_type": "code",
   "execution_count": 17,
   "id": "38caef5c-33d5-4100-a739-0eb4604c2faf",
   "metadata": {},
   "outputs": [
    {
     "name": "stdout",
     "output_type": "stream",
     "text": [
      "Scores:  [67771.64490898 66592.73786414 71030.17816629 68385.04610473\n",
      " 70598.27364199 75467.51232255 69556.25363187 70592.31055627\n",
      " 75391.88242104 68727.81955055]\n",
      "Mean:  70411.3659168396\n",
      "Scores std:  2829.175317250927\n"
     ]
    }
   ],
   "source": [
    "# use cross-validation\n",
    "\n",
    "from sklearn.tree import DecisionTreeRegressor\n",
    "\n",
    "tree_reg = DecisionTreeRegressor()\n",
    "tree_reg.fit(ho_ready, ho_labels)\n",
    "\n",
    "\n",
    "scores = cross_val_score(tree_reg, ho_ready, ho_labels, scoring ='neg_mean_squared_error', cv = 10) # recall cv means it takes 10 subsets\n",
    "tree_rmse_scores = np.sqrt(-scores)\n",
    "\n",
    "display_scores(tree_rmse_scores)"
   ]
  },
  {
   "cell_type": "code",
   "execution_count": null,
   "id": "dcd736c5-bd4e-4326-9e2d-b91135355838",
   "metadata": {},
   "outputs": [],
   "source": [
    "# Gridsearch for best parameters:\n",
    "\n",
    "from sklearn.model_selection import GridSearchCV\n",
    "from sklearn.ensemble import RandomForestRegressor\n",
    "\n",
    "param_grid = [\n",
    "    {'n_estimators' : [30, 50, 100], 'max_features': [8, 10, 13]},    # first evaluate these 12 combinations\n",
    "    #{'bootstrap': [False], 'n_estimators' : [3,10], 'max_features': [2,3,4]}    # and after try the 6 combinations with bootstrap False\n",
    "]\n",
    "\n",
    "forest_reg = RandomForestRegressor()\n",
    "\n",
    "grid_search = GridSearchCV(forest_reg, param_grid, cv = 5, scoring = 'neg_mean_squared_error', return_train_score=True)\n",
    "\n",
    "grid_search.fit(ho_ready,ho_labels)"
   ]
  },
  {
   "cell_type": "code",
   "execution_count": null,
   "id": "283d4f5d-d363-493e-96a3-d3ff36c82c16",
   "metadata": {},
   "outputs": [],
   "source": [
    "grid_search.best_params_ # gives {'max_features': 8, 'n_estimators': 30}.\n",
    "# as they are the max values I'll try again with higher parameters---> gives 8, 100"
   ]
  },
  {
   "cell_type": "code",
   "execution_count": null,
   "id": "a711a11e-1664-4a9b-ad85-4558b9b58ee7",
   "metadata": {
    "scrolled": true
   },
   "outputs": [],
   "source": [
    "cvres = grid_search.cv_results_\n",
    "for mean_score, params in zip(cvres[\"mean_test_score\"], cvres[\"params\"]):\n",
    "    print(np.sqrt(-mean_score), params)"
   ]
  },
  {
   "cell_type": "code",
   "execution_count": 24,
   "id": "6f0a79d1-a131-45db-a265-d34a5febb04b",
   "metadata": {},
   "outputs": [
    {
     "name": "stdout",
     "output_type": "stream",
     "text": [
      "Scores:  [48842.38480974 46758.39383353 48758.01705368 50886.70079384\n",
      " 48046.89556082 52605.75990145 47500.86241306 46899.8664869\n",
      " 51429.31594554 48443.7711686 ]\n",
      "Mean:  49017.19679671737\n",
      "Scores std:  1882.6505883951681\n"
     ]
    }
   ],
   "source": [
    "forest_reg = RandomForestRegressor(max_features = 8, n_estimators=100)\n",
    "\n",
    "scores = cross_val_score(forest_reg, ho_ready, ho_labels, scoring ='neg_mean_squared_error', cv = 10) # recall cv means it takes 10 subsets\n",
    "forest_rmse_scores = np.sqrt(-scores)\n",
    "\n",
    "display_scores(forest_rmse_scores)"
   ]
  },
  {
   "cell_type": "markdown",
   "id": "b98414e0",
   "metadata": {},
   "source": [
    "### Ensemble "
   ]
  },
  {
   "cell_type": "code",
   "execution_count": 18,
   "id": "b05f33e5",
   "metadata": {},
   "outputs": [],
   "source": [
    "from sklearn.ensemble import RandomForestRegressor\n",
    "forest_reg = RandomForestRegressor(max_features = 8, n_estimators=100)\n",
    "\n"
   ]
  },
  {
   "cell_type": "code",
   "execution_count": 22,
   "id": "a6171ba4",
   "metadata": {},
   "outputs": [
    {
     "data": {
      "text/plain": [
       "VotingRegressor(estimators=[('lr', LinearRegression()),\n",
       "                            ('forest', RandomForestRegressor(max_features=8))])"
      ]
     },
     "execution_count": 22,
     "metadata": {},
     "output_type": "execute_result"
    }
   ],
   "source": [
    "from sklearn.ensemble import VotingRegressor\n",
    "\n",
    "\n",
    "voting = VotingRegressor(estimators=[('lr', lin_reg),('forest', forest_reg)])\n",
    "voting.fit(ho_ready,ho_labels)"
   ]
  },
  {
   "cell_type": "code",
   "execution_count": 23,
   "id": "e9858fc2",
   "metadata": {},
   "outputs": [
    {
     "name": "stdout",
     "output_type": "stream",
     "text": [
      "Scores:  [54216.06325342 52936.04960932 56002.32407329 58728.60468957\n",
      " 54781.41673062 58808.31955723 52421.93461256 53778.30777952\n",
      " 58366.15025916 55180.44173359]\n",
      "Mean:  55521.96122982736\n",
      "Scores std:  2260.76791307601\n"
     ]
    }
   ],
   "source": [
    "scores = cross_val_score(voting, ho_ready, ho_labels, scoring ='neg_mean_squared_error', cv = 10) # recall cv means it takes 10 subsets\n",
    "popular_rmse_scores = np.sqrt(-scores)\n",
    "\n",
    "display_scores(popular_rmse_scores)"
   ]
  },
  {
   "cell_type": "code",
   "execution_count": 26,
   "id": "41857adc",
   "metadata": {},
   "outputs": [
    {
     "name": "stdout",
     "output_type": "stream",
     "text": [
      "Scores:  [48842.38480974 46758.39383353 48758.01705368 50886.70079384\n",
      " 48046.89556082 52605.75990145 47500.86241306 46899.8664869\n",
      " 51429.31594554 48443.7711686 ]\n",
      "Mean:  49017.19679671737\n",
      "Scores std:  1882.6505883951681\n"
     ]
    }
   ],
   "source": [
    "from sklearn.ensemble import BaggingClassifier\n",
    "\n",
    "bag_clf = BaggingClassifier(forest_reg)\n",
    "bag_clf.fit(ho_ready, ho_labels)\n",
    "\n",
    "bag_rmse_scores = np.sqrt(-scores)\n",
    "\n",
    "display_scores(bag_rmse_scores)\n",
    "\n",
    "# è uguale!!\n"
   ]
  },
  {
   "cell_type": "markdown",
   "id": "f773c4ea",
   "metadata": {},
   "source": [
    "### feature importance"
   ]
  },
  {
   "cell_type": "code",
   "execution_count": 135,
   "id": "f21bb2b2",
   "metadata": {},
   "outputs": [
    {
     "data": {
      "text/plain": [
       "array([6.93777271e-02, 6.52818204e-02, 4.31449212e-02, 1.55967142e-02,\n",
       "       1.43733951e-02, 1.49615316e-02, 1.42159769e-02, 3.72572902e-01,\n",
       "       4.91975981e-02, 1.11366277e-01, 5.81654227e-02, 6.79672690e-03,\n",
       "       1.59966477e-01, 1.04964824e-04, 2.02759834e-03, 2.84994718e-03])"
      ]
     },
     "execution_count": 135,
     "metadata": {},
     "output_type": "execute_result"
    }
   ],
   "source": [
    "forest_reg.fit(ho_ready, ho_labels)\n",
    "\n",
    "feat = forest_reg.feature_importances_\n",
    "\n",
    "feat"
   ]
  },
  {
   "cell_type": "code",
   "execution_count": 63,
   "id": "14996f18",
   "metadata": {},
   "outputs": [
    {
     "data": {
      "text/plain": [
       "[(0.3541171651174916, 'median_income'),\n",
       " (0.16530406819721377, 'INLAND'),\n",
       " (0.11320740075722498, 'pop per hhold'),\n",
       " (0.06862277575023518, 'bedrooms per hhold'),\n",
       " (0.06789888838338387, 'longitude'),\n",
       " (0.063882972885897, 'latitude'),\n",
       " (0.051560185034452324, 'rooms per hhold'),\n",
       " (0.042519931433574056, 'housing_median_age'),\n",
       " (0.015928683616666044, 'total_rooms'),\n",
       " (0.01562350429955613, 'population'),\n",
       " (0.014691280111605542, 'total_bedrooms'),\n",
       " (0.01431395403114126, 'households'),\n",
       " (0.006695420964495995, '<1H OCEAN'),\n",
       " (0.0031787684715527667, 'NEAR OCEAN'),\n",
       " (0.0023724735014513504, 'NEAR BAY'),\n",
       " (8.252744405828926e-05, 'ISLAND')]"
      ]
     },
     "execution_count": 63,
     "metadata": {},
     "output_type": "execute_result"
    }
   ],
   "source": [
    "extra_attr = ['rooms per hhold','pop per hhold', 'bedrooms per hhold']\n",
    "cat_encoder= full_pipeline.named_transformers_['cat']\n",
    "cat_one_hot_attr = list(cat_encoder.categories_[0])\n",
    "attrib = num_attr + extra_attr + cat_one_hot_attr\n",
    "sorted(zip(feat, attrib), reverse = True)"
   ]
  },
  {
   "cell_type": "markdown",
   "id": "4ede912c",
   "metadata": {},
   "source": [
    "#### create new pipeline that selects most important features\n",
    "For example, among the ocean_proximity, only INLAND is relevant"
   ]
  },
  {
   "cell_type": "code",
   "execution_count": 136,
   "id": "0aaa28e8",
   "metadata": {},
   "outputs": [],
   "source": [
    "# create a new transformer that selects only INLAND, and encodes it too\n",
    "\n",
    "class AttributeSelector(BaseEstimator, TransformerMixin):\n",
    "    # BaseEstimator gets the extra methods get_params() and set_params()\n",
    "    # TransformerMixin gives the fit_transform() method for free\n",
    "    \n",
    "    def __init__(self): # no *args or **kargs\n",
    "        print('')\n",
    "        \n",
    "    def fit(self, X, y=None):\n",
    "        return self  # nothing else to do\n",
    "    \n",
    "    def transform(self, X):\n",
    "        # non inlansds to 0\n",
    "        non_inland_ind = X.loc[X['ocean_proximity'] != 'INLAND'].index\n",
    "        X.loc[non_inland_ind,'ocean_proximity'] = np.zeros(len(non_inland_ind))\n",
    "        # inland to 1\n",
    "        inland_ind = X.loc[X['ocean_proximity'] == 'INLAND'].index\n",
    "        X.loc[inland_ind,'ocean_proximity'] = np.ones(len(inland_ind))\n",
    "        \n",
    "        return X"
   ]
  },
  {
   "cell_type": "code",
   "execution_count": 141,
   "id": "a9035162",
   "metadata": {},
   "outputs": [
    {
     "name": "stdout",
     "output_type": "stream",
     "text": [
      "\n",
      "\n"
     ]
    }
   ],
   "source": [
    "ho = strat_train_set.drop('median_house_value', axis=1) # drop labels for training set\n",
    "ho_labels = strat_train_set['median_house_value'].copy()\n",
    "\n",
    "ho_num = ho.drop('ocean_proximity', axis=1)\n",
    "\n",
    "num_pipeline= Pipeline([\n",
    "        ('imputer', SimpleImputer(strategy= 'median')), # fill nan\n",
    "        ('attribs_adder', CombinedAttributesAdder()),   # adds 3 new cols\n",
    "        ('std_scaler', StandardScaler()),               # scaler\n",
    "    ])\n",
    "\n",
    "full_pipeline_for_real = ColumnTransformer([\n",
    "            ('sel',AttributeSelector(),['ocean_proximity']),  # selects only inland\n",
    "            ('num', num_pipeline, num_attr), # name, tranformer, list of columns that the trans should be applied to\n",
    "        ])\n",
    "\n",
    "\n",
    "ho_ready_for_real = full_pipeline_for_real.fit_transform(ho)\n"
   ]
  },
  {
   "cell_type": "code",
   "execution_count": 138,
   "id": "ca541dd6",
   "metadata": {
    "scrolled": true
   },
   "outputs": [
    {
     "data": {
      "text/html": [
       "<div>\n",
       "<style scoped>\n",
       "    .dataframe tbody tr th:only-of-type {\n",
       "        vertical-align: middle;\n",
       "    }\n",
       "\n",
       "    .dataframe tbody tr th {\n",
       "        vertical-align: top;\n",
       "    }\n",
       "\n",
       "    .dataframe thead th {\n",
       "        text-align: right;\n",
       "    }\n",
       "</style>\n",
       "<table border=\"1\" class=\"dataframe\">\n",
       "  <thead>\n",
       "    <tr style=\"text-align: right;\">\n",
       "      <th></th>\n",
       "      <th>0</th>\n",
       "      <th>1</th>\n",
       "      <th>2</th>\n",
       "      <th>3</th>\n",
       "      <th>4</th>\n",
       "      <th>5</th>\n",
       "      <th>6</th>\n",
       "      <th>7</th>\n",
       "      <th>8</th>\n",
       "      <th>9</th>\n",
       "      <th>10</th>\n",
       "      <th>11</th>\n",
       "    </tr>\n",
       "  </thead>\n",
       "  <tbody>\n",
       "    <tr>\n",
       "      <th>17606</th>\n",
       "      <td>0.0</td>\n",
       "      <td>-1.156043</td>\n",
       "      <td>0.77195</td>\n",
       "      <td>0.743331</td>\n",
       "      <td>-0.493234</td>\n",
       "      <td>-0.445438</td>\n",
       "      <td>-0.636211</td>\n",
       "      <td>-0.420698</td>\n",
       "      <td>-0.614937</td>\n",
       "      <td>-0.312055</td>\n",
       "      <td>-0.086499</td>\n",
       "      <td>0.155318</td>\n",
       "    </tr>\n",
       "    <tr>\n",
       "      <th>18632</th>\n",
       "      <td>0.0</td>\n",
       "      <td>-1.176025</td>\n",
       "      <td>0.659695</td>\n",
       "      <td>-1.165317</td>\n",
       "      <td>-0.908967</td>\n",
       "      <td>-1.036928</td>\n",
       "      <td>-0.998331</td>\n",
       "      <td>-1.022227</td>\n",
       "      <td>1.336459</td>\n",
       "      <td>0.217683</td>\n",
       "      <td>-0.033534</td>\n",
       "      <td>-0.836289</td>\n",
       "    </tr>\n",
       "    <tr>\n",
       "      <th>14650</th>\n",
       "      <td>0.0</td>\n",
       "      <td>1.186849</td>\n",
       "      <td>-1.342183</td>\n",
       "      <td>0.186642</td>\n",
       "      <td>-0.31366</td>\n",
       "      <td>-0.153345</td>\n",
       "      <td>-0.433639</td>\n",
       "      <td>-0.093318</td>\n",
       "      <td>-0.532046</td>\n",
       "      <td>-0.465315</td>\n",
       "      <td>-0.092405</td>\n",
       "      <td>0.4222</td>\n",
       "    </tr>\n",
       "    <tr>\n",
       "      <th>3230</th>\n",
       "      <td>1.0</td>\n",
       "      <td>-0.017068</td>\n",
       "      <td>0.313576</td>\n",
       "      <td>-0.29052</td>\n",
       "      <td>-0.362762</td>\n",
       "      <td>-0.396756</td>\n",
       "      <td>0.036041</td>\n",
       "      <td>-0.383436</td>\n",
       "      <td>-1.045566</td>\n",
       "      <td>-0.079661</td>\n",
       "      <td>0.089736</td>\n",
       "      <td>-0.196453</td>\n",
       "    </tr>\n",
       "    <tr>\n",
       "      <th>3555</th>\n",
       "      <td>0.0</td>\n",
       "      <td>0.492474</td>\n",
       "      <td>-0.659299</td>\n",
       "      <td>-0.926736</td>\n",
       "      <td>1.856193</td>\n",
       "      <td>2.412211</td>\n",
       "      <td>2.724154</td>\n",
       "      <td>2.570975</td>\n",
       "      <td>-0.441437</td>\n",
       "      <td>-0.357834</td>\n",
       "      <td>-0.004194</td>\n",
       "      <td>0.269928</td>\n",
       "    </tr>\n",
       "    <tr>\n",
       "      <th>...</th>\n",
       "      <td>...</td>\n",
       "      <td>...</td>\n",
       "      <td>...</td>\n",
       "      <td>...</td>\n",
       "      <td>...</td>\n",
       "      <td>...</td>\n",
       "      <td>...</td>\n",
       "      <td>...</td>\n",
       "      <td>...</td>\n",
       "      <td>...</td>\n",
       "      <td>...</td>\n",
       "      <td>...</td>\n",
       "    </tr>\n",
       "    <tr>\n",
       "      <th>6563</th>\n",
       "      <td>1.0</td>\n",
       "      <td>0.722267</td>\n",
       "      <td>-0.673331</td>\n",
       "      <td>1.379547</td>\n",
       "      <td>-0.632123</td>\n",
       "      <td>-0.725361</td>\n",
       "      <td>-0.75901</td>\n",
       "      <td>-0.764049</td>\n",
       "      <td>0.554158</td>\n",
       "      <td>0.234352</td>\n",
       "      <td>-0.031755</td>\n",
       "      <td>-0.428853</td>\n",
       "    </tr>\n",
       "    <tr>\n",
       "      <th>12053</th>\n",
       "      <td>1.0</td>\n",
       "      <td>1.007011</td>\n",
       "      <td>-0.823004</td>\n",
       "      <td>0.902385</td>\n",
       "      <td>-0.667196</td>\n",
       "      <td>-0.584183</td>\n",
       "      <td>-0.329664</td>\n",
       "      <td>-0.636291</td>\n",
       "      <td>-0.948815</td>\n",
       "      <td>-0.308114</td>\n",
       "      <td>0.084689</td>\n",
       "      <td>0.491503</td>\n",
       "    </tr>\n",
       "    <tr>\n",
       "      <th>13908</th>\n",
       "      <td>1.0</td>\n",
       "      <td>1.586489</td>\n",
       "      <td>-0.724781</td>\n",
       "      <td>-1.562952</td>\n",
       "      <td>1.043901</td>\n",
       "      <td>0.822735</td>\n",
       "      <td>0.607904</td>\n",
       "      <td>0.713156</td>\n",
       "      <td>-0.316705</td>\n",
       "      <td>0.346934</td>\n",
       "      <td>-0.030554</td>\n",
       "      <td>-0.521776</td>\n",
       "    </tr>\n",
       "    <tr>\n",
       "      <th>11159</th>\n",
       "      <td>0.0</td>\n",
       "      <td>0.782213</td>\n",
       "      <td>-0.851068</td>\n",
       "      <td>0.186642</td>\n",
       "      <td>-0.309919</td>\n",
       "      <td>-0.374849</td>\n",
       "      <td>-0.057178</td>\n",
       "      <td>-0.375451</td>\n",
       "      <td>0.098121</td>\n",
       "      <td>0.024995</td>\n",
       "      <td>0.061509</td>\n",
       "      <td>-0.303407</td>\n",
       "    </tr>\n",
       "    <tr>\n",
       "      <th>15775</th>\n",
       "      <td>0.0</td>\n",
       "      <td>-1.435791</td>\n",
       "      <td>0.996459</td>\n",
       "      <td>1.856709</td>\n",
       "      <td>0.220853</td>\n",
       "      <td>0.360253</td>\n",
       "      <td>-0.135159</td>\n",
       "      <td>0.377791</td>\n",
       "      <td>-0.157799</td>\n",
       "      <td>-0.228529</td>\n",
       "      <td>-0.095863</td>\n",
       "      <td>0.101806</td>\n",
       "    </tr>\n",
       "  </tbody>\n",
       "</table>\n",
       "<p>16512 rows × 12 columns</p>\n",
       "</div>"
      ],
      "text/plain": [
       "        0         1         2         3         4         5         6   \\\n",
       "17606  0.0 -1.156043   0.77195  0.743331 -0.493234 -0.445438 -0.636211   \n",
       "18632  0.0 -1.176025  0.659695 -1.165317 -0.908967 -1.036928 -0.998331   \n",
       "14650  0.0  1.186849 -1.342183  0.186642  -0.31366 -0.153345 -0.433639   \n",
       "3230   1.0 -0.017068  0.313576  -0.29052 -0.362762 -0.396756  0.036041   \n",
       "3555   0.0  0.492474 -0.659299 -0.926736  1.856193  2.412211  2.724154   \n",
       "...    ...       ...       ...       ...       ...       ...       ...   \n",
       "6563   1.0  0.722267 -0.673331  1.379547 -0.632123 -0.725361  -0.75901   \n",
       "12053  1.0  1.007011 -0.823004  0.902385 -0.667196 -0.584183 -0.329664   \n",
       "13908  1.0  1.586489 -0.724781 -1.562952  1.043901  0.822735  0.607904   \n",
       "11159  0.0  0.782213 -0.851068  0.186642 -0.309919 -0.374849 -0.057178   \n",
       "15775  0.0 -1.435791  0.996459  1.856709  0.220853  0.360253 -0.135159   \n",
       "\n",
       "             7         8         9         10        11  \n",
       "17606 -0.420698 -0.614937 -0.312055 -0.086499  0.155318  \n",
       "18632 -1.022227  1.336459  0.217683 -0.033534 -0.836289  \n",
       "14650 -0.093318 -0.532046 -0.465315 -0.092405    0.4222  \n",
       "3230  -0.383436 -1.045566 -0.079661  0.089736 -0.196453  \n",
       "3555   2.570975 -0.441437 -0.357834 -0.004194  0.269928  \n",
       "...         ...       ...       ...       ...       ...  \n",
       "6563  -0.764049  0.554158  0.234352 -0.031755 -0.428853  \n",
       "12053 -0.636291 -0.948815 -0.308114  0.084689  0.491503  \n",
       "13908  0.713156 -0.316705  0.346934 -0.030554 -0.521776  \n",
       "11159 -0.375451  0.098121  0.024995  0.061509 -0.303407  \n",
       "15775  0.377791 -0.157799 -0.228529 -0.095863  0.101806  \n",
       "\n",
       "[16512 rows x 12 columns]"
      ]
     },
     "execution_count": 138,
     "metadata": {},
     "output_type": "execute_result"
    }
   ],
   "source": [
    "pd.DataFrame(\n",
    "    ho_ready_for_real,\n",
    "    #columns=list(ho.columns),\n",
    "    index=ho.index)"
   ]
  },
  {
   "cell_type": "code",
   "execution_count": 139,
   "id": "6559816d",
   "metadata": {},
   "outputs": [
    {
     "name": "stdout",
     "output_type": "stream",
     "text": [
      "Scores:  [49066.83118556 47039.04556939 49145.1861209  51241.35614591\n",
      " 48315.32275293 52987.70458896 48049.72766832 47163.5358773\n",
      " 51824.38132945 48829.84231869]\n",
      "Mean:  49366.29335574038\n",
      "Scores std:  1902.764545986357\n"
     ]
    }
   ],
   "source": [
    "# let's try again the classifier\n",
    "\n",
    "forest_reg = RandomForestRegressor(max_features = 8, n_estimators=100)\n",
    "\n",
    "scores = cross_val_score(forest_reg, ho_ready_for_real, ho_labels, scoring ='neg_mean_squared_error', cv = 10) # recall cv means it takes 10 subsets\n",
    "forest_rmse_scores = np.sqrt(-scores)\n",
    "\n",
    "display_scores(forest_rmse_scores)\n",
    "\n",
    "# was better before -.-"
   ]
  },
  {
   "cell_type": "markdown",
   "id": "492acd18",
   "metadata": {},
   "source": [
    "### Time to make a decision!"
   ]
  },
  {
   "cell_type": "code",
   "execution_count": 142,
   "id": "fd60305d",
   "metadata": {},
   "outputs": [
    {
     "data": {
      "text/plain": [
       "47704.12975557877"
      ]
     },
     "execution_count": 142,
     "metadata": {},
     "output_type": "execute_result"
    }
   ],
   "source": [
    "final_model = RandomForestRegressor(max_features = 8, n_estimators=100).fit(ho_ready_for_real, ho_labels)\n",
    "\n",
    "X_test = strat_test_set.drop('median_house_value', axis =1)\n",
    "y_test = strat_test_set['median_house_value'].copy()\n",
    "\n",
    "X_test_ready = full_pipeline_for_real.transform(X_test)\n",
    "final_predictions= final_model.predict(X_test_ready)\n",
    "\n",
    "final_mse = mean_squared_error(y_test, final_predictions)\n",
    "final_rmse = np.sqrt(final_mse)\n",
    "\n",
    "final_rmse"
   ]
  },
  {
   "cell_type": "code",
   "execution_count": 143,
   "id": "c31dc8b9",
   "metadata": {},
   "outputs": [
    {
     "data": {
      "text/plain": [
       "array([45701.36853338, 49626.13127829])"
      ]
     },
     "execution_count": 143,
     "metadata": {},
     "output_type": "execute_result"
    }
   ],
   "source": [
    "# compute a 95% confidence interval for the error:\n",
    "\n",
    "from scipy import stats\n",
    "confidence = 0.95\n",
    "\n",
    "squared_errors= (final_predictions- y_test)**2\n",
    "np.sqrt(stats.t.interval(confidence, len(squared_errors)-1,\n",
    "                        loc= squared_errors.mean(),\n",
    "                        scale= stats.sem(squared_errors)))"
   ]
  },
  {
   "cell_type": "code",
   "execution_count": null,
   "id": "3f143695",
   "metadata": {},
   "outputs": [],
   "source": []
  },
  {
   "cell_type": "code",
   "execution_count": null,
   "id": "efbb8efd",
   "metadata": {},
   "outputs": [],
   "source": []
  },
  {
   "cell_type": "code",
   "execution_count": null,
   "id": "1385f8fd",
   "metadata": {},
   "outputs": [],
   "source": []
  },
  {
   "cell_type": "code",
   "execution_count": null,
   "id": "a615cdb2",
   "metadata": {},
   "outputs": [],
   "source": []
  },
  {
   "cell_type": "code",
   "execution_count": null,
   "id": "4b8ec914",
   "metadata": {},
   "outputs": [],
   "source": []
  },
  {
   "cell_type": "code",
   "execution_count": null,
   "id": "be92db6b",
   "metadata": {},
   "outputs": [],
   "source": []
  }
 ],
 "metadata": {
  "kernelspec": {
   "display_name": "Python 3",
   "language": "python",
   "name": "python3"
  },
  "language_info": {
   "codemirror_mode": {
    "name": "ipython",
    "version": 3
   },
   "file_extension": ".py",
   "mimetype": "text/x-python",
   "name": "python",
   "nbconvert_exporter": "python",
   "pygments_lexer": "ipython3",
   "version": "3.7.10"
  }
 },
 "nbformat": 4,
 "nbformat_minor": 5
}
